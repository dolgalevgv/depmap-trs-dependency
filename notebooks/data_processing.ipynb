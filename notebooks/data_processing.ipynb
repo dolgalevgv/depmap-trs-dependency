{
 "cells": [
  {
   "cell_type": "markdown",
   "id": "82b1318d-b37f-42b2-ab30-5f7e55586e6b",
   "metadata": {},
   "source": [
    "### **Data processing**\n",
    "Contains code for processing raw files from DepMap into working format. Last edit 25.04.22."
   ]
  },
  {
   "cell_type": "code",
   "execution_count": 2,
   "id": "fd0cbd99-2771-4685-a633-7587fe98d3a1",
   "metadata": {},
   "outputs": [],
   "source": [
    "import pandas as pd"
   ]
  },
  {
   "cell_type": "code",
   "execution_count": 3,
   "id": "099e646f-dcd5-47b6-93e9-d3a8ef9e0220",
   "metadata": {},
   "outputs": [],
   "source": [
    "lines = pd.read_csv('../data/raw/depmap_22q1_cellline_info_130422.csv')\n",
    "expression = pd.read_csv('../data/raw/depmap_22q1_expression_trs_130422.csv')\n",
    "dependency = pd.read_csv('../data/raw/depmap_22q1_crispr_effect_130422.csv')\n",
    "essential = pd.read_csv('../data/raw/depmap_22q1_crispr_essential_230422.csv')\n",
    "annot = pd.read_csv('../data/raw/ensembl_trs_dict_240422.txt', sep='\\t')"
   ]
  },
  {
   "cell_type": "code",
   "execution_count": 4,
   "id": "a66cd989-2f6f-485a-8512-22629cdadb5b",
   "metadata": {},
   "outputs": [],
   "source": [
    "expression['Unnamed: 0'] = expression['Unnamed: 0'].map(lines.set_index('DepMap_ID')['stripped_cell_line_name'])\n",
    "dependency['DepMap_ID'] = dependency['DepMap_ID'].map(lines.set_index('DepMap_ID')['stripped_cell_line_name'])"
   ]
  },
  {
   "cell_type": "code",
   "execution_count": 5,
   "id": "284f8d1c-69f8-4fcb-9f68-4c0fa4f59876",
   "metadata": {},
   "outputs": [],
   "source": [
    "dependency = dependency[dependency['DepMap_ID'].isin(expression['Unnamed: 0'])]\n",
    "expression = expression[expression['Unnamed: 0'].isin(dependency['DepMap_ID'])]"
   ]
  },
  {
   "cell_type": "code",
   "execution_count": 6,
   "id": "208baf8d-d473-4339-874b-c4dec14ba0f3",
   "metadata": {},
   "outputs": [],
   "source": [
    "dependency = dependency.set_index('DepMap_ID', drop=True).T\n",
    "dependency.columns.name = None\n",
    "dependency.index = dependency.index.map(lambda x: x[:x.index('(')-1])\n",
    "dependency.index.name = 'gene_name'"
   ]
  },
  {
   "cell_type": "code",
   "execution_count": 7,
   "id": "52bbf30a-a9ab-419a-8bea-263ad2752ebc",
   "metadata": {},
   "outputs": [],
   "source": [
    "expression = expression.set_index('Unnamed: 0', drop=True).T\n",
    "expression.columns.name = None\n",
    "expression = expression[expression.index.str.contains('\\(ENST')]\n",
    "expression['gene_name'] = expression.index.map(lambda x: x[:x.index('(')-1])\n",
    "expression['enst_id'] = expression.index.map(lambda x: x[x.index('(')+1:-1])\n",
    "expression = expression.reset_index().drop('index', axis=1)\n",
    "expression = expression[expression['gene_name'].isin(dependency.index)]\n",
    "expression = expression.set_index(['gene_name', 'enst_id'], drop=True)"
   ]
  },
  {
   "cell_type": "code",
   "execution_count": 8,
   "id": "9c509be3-301f-404e-b143-2713302d3824",
   "metadata": {},
   "outputs": [],
   "source": [
    "dependency = dependency[sorted(dependency.columns)]\n",
    "expression = expression[sorted(expression.columns)]\n",
    "expression = expression.sort_index()"
   ]
  },
  {
   "cell_type": "code",
   "execution_count": 9,
   "id": "d8a70e1a-d215-48a4-940f-e94854f65482",
   "metadata": {},
   "outputs": [],
   "source": [
    "annot = annot.drop_duplicates('Transcript stable ID', keep='first')\n",
    "expression['trs_type'] = expression.index.get_level_values(1).map(annot.set_index('Transcript stable ID')['Transcript type'])"
   ]
  },
  {
   "cell_type": "code",
   "execution_count": 10,
   "id": "e381f9d7-431b-4918-8b4d-c6a0976a8c9a",
   "metadata": {},
   "outputs": [],
   "source": [
    "essential['gene'] = essential['gene'].map(lambda x: x[:x.index('(')-1]) #Get rid of Entrez ID"
   ]
  },
  {
   "cell_type": "code",
   "execution_count": 14,
   "id": "b172c82d-70c1-4556-b3b8-b41528471c26",
   "metadata": {},
   "outputs": [],
   "source": [
    "expression.to_csv('../data/processed/depmap_22q1_expression_trs_processed_240422.csv')\n",
    "dependency.to_csv('../data/processed/depmap_22q1_crispr_effect_processed_240422.csv')\n",
    "essential.to_csv('../data/processed/depmap_22q1_crispr_essential_processed_240422.csv', index=False)"
   ]
  }
 ],
 "metadata": {
  "kernelspec": {
   "display_name": "Python 3 (ipykernel)",
   "language": "python",
   "name": "python3"
  },
  "language_info": {
   "codemirror_mode": {
    "name": "ipython",
    "version": 3
   },
   "file_extension": ".py",
   "mimetype": "text/x-python",
   "name": "python",
   "nbconvert_exporter": "python",
   "pygments_lexer": "ipython3",
   "version": "3.10.4"
  }
 },
 "nbformat": 4,
 "nbformat_minor": 5
}
